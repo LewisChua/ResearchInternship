{
 "cells": [
  {
   "cell_type": "code",
   "execution_count": 1,
   "id": "b96bc40e",
   "metadata": {},
   "outputs": [
    {
     "data": {
      "text/plain": [
       "'\\n----- Psudo code -----\\n\\nChoose epsilon; # exploration probability\\nChoose n; # number of steps / iterations\\n\\nfor i = 1 to n do:\\n\\n  p = pick a random number from 0 to 1 \\n  \\n  if p < epsilon:\\n       current_bandit = pick bandit at random  # explore\\n  else:\\n       current_bandit = pick best bandit so far  # exploit\\n  reward = current_bandit.pull_arm()\\n  \\n  Update estimation for what rewards the current bandit gives\\n  \\n----- END -----  \\n'"
      ]
     },
     "execution_count": 1,
     "metadata": {},
     "output_type": "execute_result"
    }
   ],
   "source": [
    "# C:\\Users\\CHUA_K\\_MultiArm-Bandit\n",
    "# https://tor-lattimore.com/downloads/book/book.pdf\n",
    "\n",
    "\"\"\"\n",
    "----- Psudo code -----\n",
    "\n",
    "Choose epsilon; # exploration probability\n",
    "Choose n; # number of steps / iterations\n",
    "\n",
    "for i = 1 to n do:\n",
    "\n",
    "  p = pick a random number from 0 to 1 \n",
    "  \n",
    "  if p < epsilon:\n",
    "       current_bandit = pick bandit at random  # explore\n",
    "  else:\n",
    "       current_bandit = pick best bandit so far  # exploit\n",
    "  reward = current_bandit.pull_arm()\n",
    "  \n",
    "  Update estimation for what rewards the current bandit gives\n",
    "  \n",
    "----- END -----  \n",
    "\"\"\""
   ]
  },
  {
   "cell_type": "code",
   "execution_count": 2,
   "id": "1089bb8a",
   "metadata": {},
   "outputs": [],
   "source": [
    "# Library Imports\n",
    "import matplotlib\n",
    "import matplotlib.pyplot as plt\n",
    "import numpy as np\n",
    "from random import randint\n",
    "from tqdm.notebook import trange\n",
    "import random\n",
    "import math\n",
    "\n",
    "class Bandit:\n",
    "    def __init__(self, k_arm=10, epsilon=0., initial=0., step_size=0.1, sample_averages=False, UCB_param=None,\n",
    "                     gradient=False, gradient_baseline=False, true_reward=0.,\n",
    "                        KLUCB=False, KL_param=None):\n",
    "            self.k = k_arm\n",
    "            self.step_size = step_size\n",
    "            self.sample_averages = sample_averages\n",
    "            self.indices = np.arange(self.k)\n",
    "            self.time = 0\n",
    "            self.UCB_param = UCB_param\n",
    "            self.KL_param = KL_param\n",
    "            self.gradient = gradient\n",
    "            self.gradient_baseline = gradient_baseline\n",
    "            self.average_reward = 0\n",
    "            self.true_reward = true_reward\n",
    "            self.epsilon = epsilon\n",
    "            self.initial = initial\n",
    "            self.KLUCB = KLUCB\n",
    "\n",
    "    def reset(self):\n",
    "            # real reward for each action\n",
    "            self.q_true = np.random.randn(self.k) + self.true_reward\n",
    "\n",
    "            # estimation for each action\n",
    "            self.q_estimation = np.zeros(self.k) + self.initial\n",
    "\n",
    "            # # of chosen times for each action\n",
    "            self.action_count = np.zeros(self.k)\n",
    "\n",
    "            self.best_action = np.argmax(self.q_true)\n",
    "\n",
    "            self.time = 0\n",
    "            \n",
    "            self.empMean = np.zeros(self.k)\n",
    "            self.rewards = np.zeros(self.k)\n",
    "            self.q_prob = np.random.rand(self.k)\n",
    "\n",
    "    def action(self):\n",
    "            if np.random.rand() < self.epsilon:\n",
    "                return np.random.choice(self.indices)\n",
    "\n",
    "            if self.UCB_param is not None:\n",
    "                UCB_estimation = self.q_estimation + \\\n",
    "                    self.UCB_param * np.sqrt(np.log(self.time + 1) / (self.action_count + 1e-5))\n",
    "                q_best = np.max(UCB_estimation)\n",
    "                return np.random.choice(np.where(UCB_estimation == q_best)[0])\n",
    "\n",
    "            if self.gradient:\n",
    "                exp_est = np.exp(self.q_estimation)\n",
    "                self.action_prob = exp_est / np.sum(exp_est)\n",
    "                return np.random.choice(self.indices, p=self.action_prob)\n",
    "            \n",
    "            if self.KLUCB:\n",
    "                q_val = []\n",
    "                \n",
    "                #Get Emperical Mean\n",
    "                \n",
    "                # print(self.rewards)\n",
    "                empMean = []\n",
    "\n",
    "                for i in range(self.k):\n",
    "                    if (self.action_count[i] == 0):\n",
    "                        empMean.append(1e3)\n",
    "                        # print('IF count: {}'.format(self.action_count[i]))\n",
    "                    else:\n",
    "                        empMean.append( self.rewards[i] / self.action_count[i])\n",
    "                        # print('ELSE rewards: {} count: {}'.format(self.rewards[i], self.action_count[i]))\n",
    "                    # print('Inside for-loop: {}'.format(empMean))\n",
    "                self.empMean = empMean\n",
    "            \n",
    "                # print('Emperical Mean = {}'.format(self.empMean))\n",
    "                \n",
    "                time = self.time + 1\n",
    "                c = self.KL_param\n",
    "                for i in range(self.k):\n",
    "                    p = self.empMean[i]\n",
    "\n",
    "                    \n",
    "                    if (self.action_count[i] == 0):\n",
    "                        out = (1+p)/2\n",
    "                        if np.isclose(out, 1):\n",
    "                            out = 1\n",
    "                        elif np.isclose(out, 0):\n",
    "                            out = 0    \n",
    "                        else:\n",
    "                            out = 1\n",
    "                            \n",
    "                        return (i)\n",
    "                    \n",
    "                    upper_bound = (math.log(time) + c*(math.log(math.log(time))))/self.action_count[i]\n",
    "                    # upper_bound = 1 + time*(math.log)^2(time)\n",
    "                    \n",
    "                    l = p\n",
    "                    r = 1\n",
    "                    \n",
    "                    while (r-l > 1e-3):\n",
    "                        q = (l+r) / 2\n",
    "                        \n",
    "                        kl = KL(p,q)\n",
    "                        \n",
    "                        if( kl < upper_bound):\n",
    "                            l=q\n",
    "                        else:\n",
    "                            r=q\n",
    "                    q_max = (l+r)/2\n",
    "                    q_val.append(q_max)\n",
    "                \n",
    "                # print('q_val: {}'.format(q_val))\n",
    "                return np.random.choice(np.where(q_val == np.max(q_val))[0])\n",
    "\n",
    "            q_best = np.max(self.q_estimation)\n",
    "            return np.random.choice(np.where(self.q_estimation == q_best)[0])\n",
    "\n",
    "    def step(self, action):\n",
    "            # generate the reward under N(real reward, 1)\n",
    "            reward = self.q_true[action]\n",
    "            \n",
    "            if (self.KLUCB):\n",
    "                reward = self.q_prob[action] * 3.15\n",
    "            self.time += 1\n",
    "            self.action_count[action] += 1\n",
    "            self.average_reward += (reward - self.average_reward) / self.time\n",
    "\n",
    "            if self.sample_averages:\n",
    "                # update estimation using sample averages\n",
    "                self.q_estimation[action] += (reward - self.q_estimation[action]) / self.action_count[action]\n",
    "            elif self.gradient:\n",
    "                one_hot = np.zeros(self.k)\n",
    "                one_hot[action] = 1\n",
    "                if self.gradient_baseline:\n",
    "                    baseline = self.average_reward\n",
    "                else:\n",
    "                    baseline = 0\n",
    "                self.q_estimation += self.step_size * (reward - baseline) * (one_hot - self.action_prob)\n",
    "            else:\n",
    "                # update estimation with constant step size\n",
    "                self.q_estimation[action] += self.step_size * (reward - self.q_estimation[action])\n",
    "            return reward"
   ]
  },
  {
   "cell_type": "code",
   "execution_count": 3,
   "id": "6cc6ad71-cc33-4b42-a162-cc1a36f4e2d4",
   "metadata": {},
   "outputs": [],
   "source": [
    "def KL(p, q):\n",
    "    \n",
    "    if p == 0:\n",
    "        return math.log(1 / (1 - q))\n",
    "    \n",
    "    if p == 1:\n",
    "        return math.log(1 / q)\n",
    "    \n",
    "    return p * math.log(p / q) + (1 - p) * math.log((1 - p) / (1 - q))"
   ]
  },
  {
   "cell_type": "code",
   "execution_count": 4,
   "id": "248f7dac",
   "metadata": {},
   "outputs": [],
   "source": [
    "def simulate(runs, time, bandits):\n",
    "    rewards = np.zeros((len(bandits), runs, time))\n",
    "    best_action_counts = np.zeros(rewards.shape)\n",
    "    for i, bandit in enumerate(bandits):\n",
    "        for r in trange(runs):\n",
    "            bandit.reset()\n",
    "            for t in range(time):\n",
    "                action = bandit.action()\n",
    "                reward = bandit.step(action)\n",
    "                rewards[i, r, t] = reward\n",
    "                if action == bandit.best_action:\n",
    "                    best_action_counts[i, r, t] = 1\n",
    "    mean_best_action_counts = best_action_counts.mean(axis=1)\n",
    "    mean_rewards = rewards.mean(axis=1)\n",
    "    return mean_best_action_counts, mean_rewards\n",
    "\n",
    "def Action_epsilon_greedy():\n",
    "    if np.random.random() < epsilon :\n",
    "        return randint(0, k_arms-1) # Explore; 10 arms\n",
    "    else:\n",
    "        return np.argmax(q) # Exploit; choosing best arm\n",
    "\n",
    "def Action_UCB():\n",
    "    #Page 35 Eqn(2.10)\n",
    "    UCB_Estimate = q + UCB_default[E]*(np.sqrt(np.log(time + 1) / (action_count + 1e-5)))\n",
    "    return np.argmax(UCB_Estimate)\n",
    "\n",
    "def Action_Grad_Ascent():\n",
    "    #Page 35 Eqn(2.11)\n",
    "    exp_grad_estimate = np.exp(q)\n",
    "    Grad_Est = exp_grad_estimate / np.sum(exp_grad_estimate)\n",
    "    if (np.any(np.isnan(Grad_Est))):\n",
    "        Grad_Est = randint(0, k_arms-1)\n",
    "        return Grad_Est\n",
    "    return np.random.choice(indices_i, p = Grad_Est)"
   ]
  },
  {
   "cell_type": "code",
   "execution_count": 5,
   "id": "e210536e",
   "metadata": {},
   "outputs": [
    {
     "data": {
      "application/vnd.jupyter.widget-view+json": {
       "model_id": "ed1cc4c1b2e3496e8690c5a74c3949a0",
       "version_major": 2,
       "version_minor": 0
      },
      "text/plain": [
       "  0%|          | 0/500 [00:00<?, ?it/s]"
      ]
     },
     "metadata": {},
     "output_type": "display_data"
    },
    {
     "data": {
      "application/vnd.jupyter.widget-view+json": {
       "model_id": "d3e2eb0c7ce940559a598bafea89b9e7",
       "version_major": 2,
       "version_minor": 0
      },
      "text/plain": [
       "  0%|          | 0/500 [00:00<?, ?it/s]"
      ]
     },
     "metadata": {},
     "output_type": "display_data"
    },
    {
     "data": {
      "application/vnd.jupyter.widget-view+json": {
       "model_id": "15ba5ee182f04041951bbcf1e09ff6e0",
       "version_major": 2,
       "version_minor": 0
      },
      "text/plain": [
       "  0%|          | 0/500 [00:00<?, ?it/s]"
      ]
     },
     "metadata": {},
     "output_type": "display_data"
    },
    {
     "data": {
      "application/vnd.jupyter.widget-view+json": {
       "model_id": "f5f3aaecdfdc4ae9ae796d48fef0faa6",
       "version_major": 2,
       "version_minor": 0
      },
      "text/plain": [
       "  0%|          | 0/500 [00:00<?, ?it/s]"
      ]
     },
     "metadata": {},
     "output_type": "display_data"
    },
    {
     "data": {
      "application/vnd.jupyter.widget-view+json": {
       "model_id": "6ffed31beae049418fc79d8a5da29e7c",
       "version_major": 2,
       "version_minor": 0
      },
      "text/plain": [
       "  0%|          | 0/500 [00:00<?, ?it/s]"
      ]
     },
     "metadata": {},
     "output_type": "display_data"
    },
    {
     "data": {
      "application/vnd.jupyter.widget-view+json": {
       "model_id": "f55b599616184a4a841351e48977314b",
       "version_major": 2,
       "version_minor": 0
      },
      "text/plain": [
       "  0%|          | 0/500 [00:00<?, ?it/s]"
      ]
     },
     "metadata": {},
     "output_type": "display_data"
    },
    {
     "data": {
      "application/vnd.jupyter.widget-view+json": {
       "model_id": "39b3eed1313f450f89ab33c591e39c2d",
       "version_major": 2,
       "version_minor": 0
      },
      "text/plain": [
       "  0%|          | 0/500 [00:00<?, ?it/s]"
      ]
     },
     "metadata": {},
     "output_type": "display_data"
    },
    {
     "data": {
      "application/vnd.jupyter.widget-view+json": {
       "model_id": "1b0a65257c14482b9b0a9d212e28f048",
       "version_major": 2,
       "version_minor": 0
      },
      "text/plain": [
       "  0%|          | 0/500 [00:00<?, ?it/s]"
      ]
     },
     "metadata": {},
     "output_type": "display_data"
    },
    {
     "data": {
      "application/vnd.jupyter.widget-view+json": {
       "model_id": "45bfe5dd5a624934b656b79fbed8954d",
       "version_major": 2,
       "version_minor": 0
      },
      "text/plain": [
       "  0%|          | 0/500 [00:00<?, ?it/s]"
      ]
     },
     "metadata": {},
     "output_type": "display_data"
    },
    {
     "data": {
      "application/vnd.jupyter.widget-view+json": {
       "model_id": "8becf98709b14a0fa11f9cc8440e2c35",
       "version_major": 2,
       "version_minor": 0
      },
      "text/plain": [
       "  0%|          | 0/500 [00:00<?, ?it/s]"
      ]
     },
     "metadata": {},
     "output_type": "display_data"
    },
    {
     "data": {
      "application/vnd.jupyter.widget-view+json": {
       "model_id": "9c34d5e1eeee4353ba5dfd338110415d",
       "version_major": 2,
       "version_minor": 0
      },
      "text/plain": [
       "  0%|          | 0/500 [00:00<?, ?it/s]"
      ]
     },
     "metadata": {},
     "output_type": "display_data"
    },
    {
     "data": {
      "application/vnd.jupyter.widget-view+json": {
       "model_id": "26720d2b057b4a9e9283fa20062c1db4",
       "version_major": 2,
       "version_minor": 0
      },
      "text/plain": [
       "  0%|          | 0/500 [00:00<?, ?it/s]"
      ]
     },
     "metadata": {},
     "output_type": "display_data"
    },
    {
     "data": {
      "application/vnd.jupyter.widget-view+json": {
       "model_id": "fd4953e70d524ee4a626bd86af8ce4bb",
       "version_major": 2,
       "version_minor": 0
      },
      "text/plain": [
       "  0%|          | 0/500 [00:00<?, ?it/s]"
      ]
     },
     "metadata": {},
     "output_type": "display_data"
    },
    {
     "data": {
      "application/vnd.jupyter.widget-view+json": {
       "model_id": "5ed9ae258f344cbbb5f20b99fce4ba77",
       "version_major": 2,
       "version_minor": 0
      },
      "text/plain": [
       "  0%|          | 0/500 [00:00<?, ?it/s]"
      ]
     },
     "metadata": {},
     "output_type": "display_data"
    },
    {
     "data": {
      "application/vnd.jupyter.widget-view+json": {
       "model_id": "5fddd52ef163482caa63e86711374bbe",
       "version_major": 2,
       "version_minor": 0
      },
      "text/plain": [
       "  0%|          | 0/500 [00:00<?, ?it/s]"
      ]
     },
     "metadata": {},
     "output_type": "display_data"
    },
    {
     "data": {
      "application/vnd.jupyter.widget-view+json": {
       "model_id": "a516366186114b91a1ccd58514238998",
       "version_major": 2,
       "version_minor": 0
      },
      "text/plain": [
       "  0%|          | 0/500 [00:00<?, ?it/s]"
      ]
     },
     "metadata": {},
     "output_type": "display_data"
    },
    {
     "data": {
      "application/vnd.jupyter.widget-view+json": {
       "model_id": "b0ab67fde0f540a0862c010578157258",
       "version_major": 2,
       "version_minor": 0
      },
      "text/plain": [
       "  0%|          | 0/500 [00:00<?, ?it/s]"
      ]
     },
     "metadata": {},
     "output_type": "display_data"
    },
    {
     "data": {
      "application/vnd.jupyter.widget-view+json": {
       "model_id": "83f7d00a5b8a4cb9ada8b360cf437a05",
       "version_major": 2,
       "version_minor": 0
      },
      "text/plain": [
       "  0%|          | 0/500 [00:00<?, ?it/s]"
      ]
     },
     "metadata": {},
     "output_type": "display_data"
    },
    {
     "data": {
      "application/vnd.jupyter.widget-view+json": {
       "model_id": "d0aa33c3d2eb474796af149eb50de6a0",
       "version_major": 2,
       "version_minor": 0
      },
      "text/plain": [
       "  0%|          | 0/500 [00:00<?, ?it/s]"
      ]
     },
     "metadata": {},
     "output_type": "display_data"
    },
    {
     "data": {
      "application/vnd.jupyter.widget-view+json": {
       "model_id": "3a6a30288c5d46d29757a04c18ac9957",
       "version_major": 2,
       "version_minor": 0
      },
      "text/plain": [
       "  0%|          | 0/500 [00:00<?, ?it/s]"
      ]
     },
     "metadata": {},
     "output_type": "display_data"
    },
    {
     "data": {
      "application/vnd.jupyter.widget-view+json": {
       "model_id": "cbde41f7c3ff48c9af05cdb53390cf44",
       "version_major": 2,
       "version_minor": 0
      },
      "text/plain": [
       "  0%|          | 0/500 [00:00<?, ?it/s]"
      ]
     },
     "metadata": {},
     "output_type": "display_data"
    },
    {
     "data": {
      "application/vnd.jupyter.widget-view+json": {
       "model_id": "b380b1b0dd6149b49d19ead0a64aab3d",
       "version_major": 2,
       "version_minor": 0
      },
      "text/plain": [
       "  0%|          | 0/500 [00:00<?, ?it/s]"
      ]
     },
     "metadata": {},
     "output_type": "display_data"
    },
    {
     "data": {
      "application/vnd.jupyter.widget-view+json": {
       "model_id": "f1604f3309324134872b59392f489034",
       "version_major": 2,
       "version_minor": 0
      },
      "text/plain": [
       "  0%|          | 0/500 [00:00<?, ?it/s]"
      ]
     },
     "metadata": {},
     "output_type": "display_data"
    },
    {
     "data": {
      "application/vnd.jupyter.widget-view+json": {
       "model_id": "e6c9ff43ae164f63a696abd76b9fdff2",
       "version_major": 2,
       "version_minor": 0
      },
      "text/plain": [
       "  0%|          | 0/500 [00:00<?, ?it/s]"
      ]
     },
     "metadata": {},
     "output_type": "display_data"
    },
    {
     "data": {
      "application/vnd.jupyter.widget-view+json": {
       "model_id": "50cc112e83014a14a8c95d7afbd6130d",
       "version_major": 2,
       "version_minor": 0
      },
      "text/plain": [
       "  0%|          | 0/500 [00:00<?, ?it/s]"
      ]
     },
     "metadata": {},
     "output_type": "display_data"
    },
    {
     "data": {
      "application/vnd.jupyter.widget-view+json": {
       "model_id": "cb1c074338644164a0dfe694cf50133d",
       "version_major": 2,
       "version_minor": 0
      },
      "text/plain": [
       "  0%|          | 0/500 [00:00<?, ?it/s]"
      ]
     },
     "metadata": {},
     "output_type": "display_data"
    },
    {
     "data": {
      "application/vnd.jupyter.widget-view+json": {
       "model_id": "b4ba7a55a99547788d86068483da5074",
       "version_major": 2,
       "version_minor": 0
      },
      "text/plain": [
       "  0%|          | 0/500 [00:00<?, ?it/s]"
      ]
     },
     "metadata": {},
     "output_type": "display_data"
    },
    {
     "data": {
      "application/vnd.jupyter.widget-view+json": {
       "model_id": "b69c10a5d4b04443959bab2789ef169f",
       "version_major": 2,
       "version_minor": 0
      },
      "text/plain": [
       "  0%|          | 0/500 [00:00<?, ?it/s]"
      ]
     },
     "metadata": {},
     "output_type": "display_data"
    },
    {
     "data": {
      "application/vnd.jupyter.widget-view+json": {
       "model_id": "42e506f00bfa44c99d440db9d823b5ba",
       "version_major": 2,
       "version_minor": 0
      },
      "text/plain": [
       "  0%|          | 0/500 [00:00<?, ?it/s]"
      ]
     },
     "metadata": {},
     "output_type": "display_data"
    },
    {
     "data": {
      "application/vnd.jupyter.widget-view+json": {
       "model_id": "2b60ac81ae64473cbde2ac4240af37a6",
       "version_major": 2,
       "version_minor": 0
      },
      "text/plain": [
       "  0%|          | 0/500 [00:00<?, ?it/s]"
      ]
     },
     "metadata": {},
     "output_type": "display_data"
    },
    {
     "data": {
      "application/vnd.jupyter.widget-view+json": {
       "model_id": "b4cdc80fd92e469682e41da37aee32f6",
       "version_major": 2,
       "version_minor": 0
      },
      "text/plain": [
       "  0%|          | 0/500 [00:00<?, ?it/s]"
      ]
     },
     "metadata": {},
     "output_type": "display_data"
    },
    {
     "data": {
      "application/vnd.jupyter.widget-view+json": {
       "model_id": "960d9c47924f403787b30912c839505f",
       "version_major": 2,
       "version_minor": 0
      },
      "text/plain": [
       "  0%|          | 0/500 [00:00<?, ?it/s]"
      ]
     },
     "metadata": {},
     "output_type": "display_data"
    },
    {
     "data": {
      "text/plain": [
       "<function matplotlib.pyplot.show(close=None, block=None)>"
      ]
     },
     "execution_count": 5,
     "metadata": {},
     "output_type": "execute_result"
    },
    {
     "data": {
      "image/png": "[encoded data removed]",
      "text/plain": [
       "<Figure size 640x480 with 1 Axes>"
      ]
     },
     "metadata": {},
     "output_type": "display_data"
    }
   ],
   "source": [
    "runs = 500\n",
    "time = 1000\n",
    "\n",
    "labels = ['epsilon-greedy', 'gradient bandit',\n",
    "              'UCB', 'optimistic initialization',\n",
    "         'KL-UCB']\n",
    "generators = [lambda epsilon: Bandit(epsilon=epsilon, sample_averages=True),\n",
    "                  lambda alpha: Bandit(gradient=True, step_size=alpha, gradient_baseline=True),\n",
    "                  lambda coef: Bandit(epsilon=0, UCB_param=coef, sample_averages=True),\n",
    "                  lambda initial: Bandit(epsilon=0, initial=initial, step_size=0.1),\n",
    "                     lambda cval: Bandit(epsilon=0, KL_param=cval, KLUCB=True, sample_averages=True)]\n",
    "parameters = [np.arange(-7, -1, dtype=float),\n",
    "                  np.arange(-5, 2, dtype=float),\n",
    "                  np.arange(-4, 3, dtype=float),\n",
    "                  np.arange(-2, 4, dtype=float),\n",
    "                  np.arange(-1, 5, dtype=float)]\n",
    "\n",
    "bandits = []\n",
    "for generator, parameter in zip(generators, parameters):\n",
    "    for param in parameter:\n",
    "        bandits.append(generator(pow(2, param)))\n",
    "\n",
    "_, average_rewards = simulate(runs, time, bandits)\n",
    "rewards = np.mean(average_rewards, axis=1)\n",
    "\n",
    "i = 0\n",
    "for label, parameter in zip(labels, parameters):\n",
    "    l = len(parameter)\n",
    "    plt.plot(parameter, rewards[i:i+l], label=label)\n",
    "    i += l\n",
    "\n",
    "plt.xlabel('Parameter($2^x$)')\n",
    "plt.ylabel('Average reward')\n",
    "plt.legend()\n",
    "plt.show"
   ]
  },
  {
   "cell_type": "code",
   "execution_count": null,
   "id": "554bebbc",
   "metadata": {},
   "outputs": [],
   "source": []
  },
  {
   "cell_type": "code",
   "execution_count": null,
   "id": "dfabc6c7",
   "metadata": {},
   "outputs": [],
   "source": []
  },
  {
   "cell_type": "code",
   "execution_count": null,
   "id": "b1accb7c",
   "metadata": {},
   "outputs": [],
   "source": []
  }
 ],
 "metadata": {
  "kernelspec": {
   "display_name": "Python 3 (ipykernel)",
   "language": "python",
   "name": "python3"
  },
  "language_info": {
   "codemirror_mode": {
    "name": "ipython",
    "version": 3
   },
   "file_extension": ".py",
   "mimetype": "text/x-python",
   "name": "python",
   "nbconvert_exporter": "python",
   "pygments_lexer": "ipython3",
   "version": "3.9.13"
  }
 },
 "nbformat": 4,
 "nbformat_minor": 5
}
